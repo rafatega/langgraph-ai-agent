{
 "cells": [
  {
   "cell_type": "code",
   "execution_count": 13,
   "id": "f05a6916",
   "metadata": {},
   "outputs": [],
   "source": [
    "from typing import Dict, TypedDict\n",
    "from langgraph.graph import StateGraph\n",
    "from IPython.display import Image, display"
   ]
  },
  {
   "cell_type": "code",
   "execution_count": 2,
   "id": "8e1a628f",
   "metadata": {},
   "outputs": [],
   "source": [
    "class AgentState(TypedDict):  # Schema do estado\n",
    "    message: str"
   ]
  },
  {
   "cell_type": "code",
   "execution_count": 3,
   "id": "8038467d",
   "metadata": {},
   "outputs": [],
   "source": [
    "def greeting_node(state: AgentState) -> AgentState:\n",
    "    \"\"\"Um nó simples que adiciona uma saudação a mensagem.\"\"\"\n",
    "    state['message'] = \"Olá \" + state['message'] + \", como está sendo seu dia?\"\n",
    "\n",
    "    return state"
   ]
  },
  {
   "cell_type": "code",
   "execution_count": 14,
   "id": "b8faeac8",
   "metadata": {},
   "outputs": [],
   "source": [
    "graph = StateGraph(AgentState)\n",
    "\n",
    "graph.add_node(\"Saudacao\", greeting_node)\n",
    "\n",
    "graph.set_entry_point(\"Saudacao\")\n",
    "graph.set_finish_point(\"Saudacao\")\n",
    "\n",
    "app = graph.compile()"
   ]
  },
  {
   "cell_type": "code",
   "execution_count": 22,
   "id": "4b52dd17",
   "metadata": {},
   "outputs": [],
   "source": [
    "resultado = app.invoke({\"message\": \"Bob\"})"
   ]
  },
  {
   "cell_type": "code",
   "execution_count": 25,
   "id": "a8a338d4",
   "metadata": {},
   "outputs": [
    {
     "data": {
      "text/plain": [
       "'Olá Bob, como está sendo seu dia?'"
      ]
     },
     "execution_count": 25,
     "metadata": {},
     "output_type": "execute_result"
    }
   ],
   "source": [
    "resultado[\"message\"]"
   ]
  }
 ],
 "metadata": {
  "kernelspec": {
   "display_name": "langgraph-ai-agent",
   "language": "python",
   "name": "python3"
  },
  "language_info": {
   "codemirror_mode": {
    "name": "ipython",
    "version": 3
   },
   "file_extension": ".py",
   "mimetype": "text/x-python",
   "name": "python",
   "nbconvert_exporter": "python",
   "pygments_lexer": "ipython3",
   "version": "3.13.7"
  }
 },
 "nbformat": 4,
 "nbformat_minor": 5
}
